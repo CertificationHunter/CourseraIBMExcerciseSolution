{
 "cells": [
  {
   "cell_type": "markdown",
   "id": "fe9c4409-7057-44ce-9098-9e0f9bc27433",
   "metadata": {},
   "source": [
    "# Data Science Tools and Ecosystem"
   ]
  },
  {
   "cell_type": "markdown",
   "id": "a4a28561-6669-4c3c-8f34-8aba5f81c718",
   "metadata": {},
   "source": [
    "Here is a introductory sentence: In this notebook, Data Science Tools and Ecosystem are summarized."
   ]
  },
  {
   "cell_type": "markdown",
   "id": "f0b91560-e120-4400-a9c1-b9cc88106c48",
   "metadata": {},
   "source": [
    "#### Objectives\n",
    "- List popular languages for Data Science\n",
    "- List of commonly used libraries for Data Science\n",
    "- a few arithmetic expressions"
   ]
  },
  {
   "cell_type": "markdown",
   "id": "a5191d0c-4c81-4a15-adbf-95f9e2704708",
   "metadata": {},
   "source": [
    "Some of the popular languages that Data Scientists use are: \n",
    "1. Python\n",
    "2. R\n",
    "3. SQL"
   ]
  },
  {
   "cell_type": "markdown",
   "id": "37bb98f3-0614-4ee0-a29b-f3ee62f09e76",
   "metadata": {},
   "source": [
    "Some of the commonly used libraries used by Data Scientists include:\n",
    "1. TensorFlow\n",
    "2. Panda\n",
    "3. NumPy"
   ]
  },
  {
   "cell_type": "markdown",
   "id": "545ca7fb-692a-46dd-91f4-09e210847802",
   "metadata": {},
   "source": [
    "|Data Science Tools|\n",
    ":--\n",
    "Jupyter Notebook\n",
    "Apache Spark\n",
    "RStudio"
   ]
  },
  {
   "cell_type": "markdown",
   "id": "3d767b03-ba6a-425b-96e4-26b8cbc15f84",
   "metadata": {},
   "source": [
    "### Below are a few examples of evaluating arithmetic expressions in Python"
   ]
  },
  {
   "cell_type": "code",
   "execution_count": 5,
   "id": "cbcc6959-3329-4d30-a78a-1f2e9992bec1",
   "metadata": {},
   "outputs": [
    {
     "data": {
      "text/plain": [
       "17"
      ]
     },
     "execution_count": 5,
     "metadata": {},
     "output_type": "execute_result"
    }
   ],
   "source": [
    "# This a simple arithmetic expression to mutiply then add integers\n",
    "(3*4)+5"
   ]
  },
  {
   "cell_type": "code",
   "execution_count": 10,
   "id": "f25fbb9b-a5ad-43d4-854a-4beb7f8580bf",
   "metadata": {},
   "outputs": [
    {
     "name": "stdout",
     "output_type": "stream",
     "text": [
      "3.3333333333333335\n"
     ]
    }
   ],
   "source": [
    "# This will convert 200 minutes to hours by diving by 60\n",
    "minutes= 200\n",
    "hours= minutes/60\n",
    "print(hours)"
   ]
  },
  {
   "cell_type": "markdown",
   "id": "99109d64-705a-435f-8b4a-973d5ead56c2",
   "metadata": {},
   "source": [
    "## Author\n",
    "Tolga Aydin"
   ]
  },
  {
   "cell_type": "code",
   "execution_count": null,
   "id": "f7a7314e-6ccd-4b9b-aff9-43080d1705f5",
   "metadata": {},
   "outputs": [],
   "source": []
  }
 ],
 "metadata": {
  "kernelspec": {
   "display_name": "Python 3 (ipykernel)",
   "language": "python",
   "name": "python3"
  },
  "language_info": {
   "codemirror_mode": {
    "name": "ipython",
    "version": 3
   },
   "file_extension": ".py",
   "mimetype": "text/x-python",
   "name": "python",
   "nbconvert_exporter": "python",
   "pygments_lexer": "ipython3",
   "version": "3.11.7"
  }
 },
 "nbformat": 4,
 "nbformat_minor": 5
}
